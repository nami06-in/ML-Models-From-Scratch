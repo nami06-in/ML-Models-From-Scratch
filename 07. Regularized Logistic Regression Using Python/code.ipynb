{
  "nbformat": 4,
  "nbformat_minor": 0,
  "metadata": {
    "colab": {
      "provenance": []
    },
    "kernelspec": {
      "name": "python3",
      "display_name": "Python 3"
    },
    "language_info": {
      "name": "python"
    }
  },
  "cells": [
    {
      "cell_type": "code",
      "execution_count": 1,
      "metadata": {
        "colab": {
          "base_uri": "https://localhost:8080/",
          "height": 74
        },
        "id": "_3acoEBxQ2It",
        "outputId": "9a622a15-f501-4ddc-ae73-1e8cc083c504"
      },
      "outputs": [
        {
          "output_type": "display_data",
          "data": {
            "text/plain": [
              "<IPython.core.display.HTML object>"
            ],
            "text/html": [
              "\n",
              "     <input type=\"file\" id=\"files-563429e0-9506-4ef2-9115-b8fe906ce123\" name=\"files[]\" multiple disabled\n",
              "        style=\"border:none\" />\n",
              "     <output id=\"result-563429e0-9506-4ef2-9115-b8fe906ce123\">\n",
              "      Upload widget is only available when the cell has been executed in the\n",
              "      current browser session. Please rerun this cell to enable.\n",
              "      </output>\n",
              "      <script>// Copyright 2017 Google LLC\n",
              "//\n",
              "// Licensed under the Apache License, Version 2.0 (the \"License\");\n",
              "// you may not use this file except in compliance with the License.\n",
              "// You may obtain a copy of the License at\n",
              "//\n",
              "//      http://www.apache.org/licenses/LICENSE-2.0\n",
              "//\n",
              "// Unless required by applicable law or agreed to in writing, software\n",
              "// distributed under the License is distributed on an \"AS IS\" BASIS,\n",
              "// WITHOUT WARRANTIES OR CONDITIONS OF ANY KIND, either express or implied.\n",
              "// See the License for the specific language governing permissions and\n",
              "// limitations under the License.\n",
              "\n",
              "/**\n",
              " * @fileoverview Helpers for google.colab Python module.\n",
              " */\n",
              "(function(scope) {\n",
              "function span(text, styleAttributes = {}) {\n",
              "  const element = document.createElement('span');\n",
              "  element.textContent = text;\n",
              "  for (const key of Object.keys(styleAttributes)) {\n",
              "    element.style[key] = styleAttributes[key];\n",
              "  }\n",
              "  return element;\n",
              "}\n",
              "\n",
              "// Max number of bytes which will be uploaded at a time.\n",
              "const MAX_PAYLOAD_SIZE = 100 * 1024;\n",
              "\n",
              "function _uploadFiles(inputId, outputId) {\n",
              "  const steps = uploadFilesStep(inputId, outputId);\n",
              "  const outputElement = document.getElementById(outputId);\n",
              "  // Cache steps on the outputElement to make it available for the next call\n",
              "  // to uploadFilesContinue from Python.\n",
              "  outputElement.steps = steps;\n",
              "\n",
              "  return _uploadFilesContinue(outputId);\n",
              "}\n",
              "\n",
              "// This is roughly an async generator (not supported in the browser yet),\n",
              "// where there are multiple asynchronous steps and the Python side is going\n",
              "// to poll for completion of each step.\n",
              "// This uses a Promise to block the python side on completion of each step,\n",
              "// then passes the result of the previous step as the input to the next step.\n",
              "function _uploadFilesContinue(outputId) {\n",
              "  const outputElement = document.getElementById(outputId);\n",
              "  const steps = outputElement.steps;\n",
              "\n",
              "  const next = steps.next(outputElement.lastPromiseValue);\n",
              "  return Promise.resolve(next.value.promise).then((value) => {\n",
              "    // Cache the last promise value to make it available to the next\n",
              "    // step of the generator.\n",
              "    outputElement.lastPromiseValue = value;\n",
              "    return next.value.response;\n",
              "  });\n",
              "}\n",
              "\n",
              "/**\n",
              " * Generator function which is called between each async step of the upload\n",
              " * process.\n",
              " * @param {string} inputId Element ID of the input file picker element.\n",
              " * @param {string} outputId Element ID of the output display.\n",
              " * @return {!Iterable<!Object>} Iterable of next steps.\n",
              " */\n",
              "function* uploadFilesStep(inputId, outputId) {\n",
              "  const inputElement = document.getElementById(inputId);\n",
              "  inputElement.disabled = false;\n",
              "\n",
              "  const outputElement = document.getElementById(outputId);\n",
              "  outputElement.innerHTML = '';\n",
              "\n",
              "  const pickedPromise = new Promise((resolve) => {\n",
              "    inputElement.addEventListener('change', (e) => {\n",
              "      resolve(e.target.files);\n",
              "    });\n",
              "  });\n",
              "\n",
              "  const cancel = document.createElement('button');\n",
              "  inputElement.parentElement.appendChild(cancel);\n",
              "  cancel.textContent = 'Cancel upload';\n",
              "  const cancelPromise = new Promise((resolve) => {\n",
              "    cancel.onclick = () => {\n",
              "      resolve(null);\n",
              "    };\n",
              "  });\n",
              "\n",
              "  // Wait for the user to pick the files.\n",
              "  const files = yield {\n",
              "    promise: Promise.race([pickedPromise, cancelPromise]),\n",
              "    response: {\n",
              "      action: 'starting',\n",
              "    }\n",
              "  };\n",
              "\n",
              "  cancel.remove();\n",
              "\n",
              "  // Disable the input element since further picks are not allowed.\n",
              "  inputElement.disabled = true;\n",
              "\n",
              "  if (!files) {\n",
              "    return {\n",
              "      response: {\n",
              "        action: 'complete',\n",
              "      }\n",
              "    };\n",
              "  }\n",
              "\n",
              "  for (const file of files) {\n",
              "    const li = document.createElement('li');\n",
              "    li.append(span(file.name, {fontWeight: 'bold'}));\n",
              "    li.append(span(\n",
              "        `(${file.type || 'n/a'}) - ${file.size} bytes, ` +\n",
              "        `last modified: ${\n",
              "            file.lastModifiedDate ? file.lastModifiedDate.toLocaleDateString() :\n",
              "                                    'n/a'} - `));\n",
              "    const percent = span('0% done');\n",
              "    li.appendChild(percent);\n",
              "\n",
              "    outputElement.appendChild(li);\n",
              "\n",
              "    const fileDataPromise = new Promise((resolve) => {\n",
              "      const reader = new FileReader();\n",
              "      reader.onload = (e) => {\n",
              "        resolve(e.target.result);\n",
              "      };\n",
              "      reader.readAsArrayBuffer(file);\n",
              "    });\n",
              "    // Wait for the data to be ready.\n",
              "    let fileData = yield {\n",
              "      promise: fileDataPromise,\n",
              "      response: {\n",
              "        action: 'continue',\n",
              "      }\n",
              "    };\n",
              "\n",
              "    // Use a chunked sending to avoid message size limits. See b/62115660.\n",
              "    let position = 0;\n",
              "    do {\n",
              "      const length = Math.min(fileData.byteLength - position, MAX_PAYLOAD_SIZE);\n",
              "      const chunk = new Uint8Array(fileData, position, length);\n",
              "      position += length;\n",
              "\n",
              "      const base64 = btoa(String.fromCharCode.apply(null, chunk));\n",
              "      yield {\n",
              "        response: {\n",
              "          action: 'append',\n",
              "          file: file.name,\n",
              "          data: base64,\n",
              "        },\n",
              "      };\n",
              "\n",
              "      let percentDone = fileData.byteLength === 0 ?\n",
              "          100 :\n",
              "          Math.round((position / fileData.byteLength) * 100);\n",
              "      percent.textContent = `${percentDone}% done`;\n",
              "\n",
              "    } while (position < fileData.byteLength);\n",
              "  }\n",
              "\n",
              "  // All done.\n",
              "  yield {\n",
              "    response: {\n",
              "      action: 'complete',\n",
              "    }\n",
              "  };\n",
              "}\n",
              "\n",
              "scope.google = scope.google || {};\n",
              "scope.google.colab = scope.google.colab || {};\n",
              "scope.google.colab._files = {\n",
              "  _uploadFiles,\n",
              "  _uploadFilesContinue,\n",
              "};\n",
              "})(self);\n",
              "</script> "
            ]
          },
          "metadata": {}
        },
        {
          "output_type": "stream",
          "name": "stdout",
          "text": [
            "Saving ex2data2.txt to ex2data2.txt\n"
          ]
        }
      ],
      "source": [
        "import numpy as np\n",
        "import matplotlib.pyplot as plt\n",
        "import math, copy\n",
        "from google.colab import files\n",
        "%matplotlib inline\n",
        "\n",
        "uploaded = files.upload()"
      ]
    },
    {
      "cell_type": "markdown",
      "source": [
        "### Problem Statement\n",
        "\n",
        "Suppose you are the product manager of the factory and you have the test results for some microchips on two different tests.\n",
        "- From these two tests, you would like to determine whether the microchips should be accepted or rejected.\n",
        "- To help you make the decision, you have a dataset of test results on past microchips, from which you can build a logistic regression model."
      ],
      "metadata": {
        "id": "Xij7gxAJRXyk"
      }
    },
    {
      "cell_type": "code",
      "source": [
        "data = np.loadtxt(\"ex2data2.txt\", delimiter=\",\")\n",
        "\n",
        "X_train = data[:, :2]\n",
        "y_train = data[:, 2]"
      ],
      "metadata": {
        "id": "PjztC4qsRXN4"
      },
      "execution_count": 2,
      "outputs": []
    },
    {
      "cell_type": "code",
      "source": [
        "# print X_train\n",
        "print(\"X_train:\", X_train[:5])\n",
        "print(\"Type of X_train:\",type(X_train))"
      ],
      "metadata": {
        "colab": {
          "base_uri": "https://localhost:8080/"
        },
        "id": "6n18RPYgS9rW",
        "outputId": "264ea8b4-b2c2-43c9-e1bc-1a261647f438"
      },
      "execution_count": 3,
      "outputs": [
        {
          "output_type": "stream",
          "name": "stdout",
          "text": [
            "X_train: [[ 0.051267  0.69956 ]\n",
            " [-0.092742  0.68494 ]\n",
            " [-0.21371   0.69225 ]\n",
            " [-0.375     0.50219 ]\n",
            " [-0.51325   0.46564 ]]\n",
            "Type of X_train: <class 'numpy.ndarray'>\n"
          ]
        }
      ]
    },
    {
      "cell_type": "code",
      "source": [
        "# print y_train\n",
        "print(\"y_train:\", y_train[:5])\n",
        "print(\"Type of y_train:\",type(y_train))"
      ],
      "metadata": {
        "colab": {
          "base_uri": "https://localhost:8080/"
        },
        "id": "UsenCK-oTFj7",
        "outputId": "7dfcd5d7-6874-4e3f-bc15-b56fbba18198"
      },
      "execution_count": 4,
      "outputs": [
        {
          "output_type": "stream",
          "name": "stdout",
          "text": [
            "y_train: [1. 1. 1. 1. 1.]\n",
            "Type of y_train: <class 'numpy.ndarray'>\n"
          ]
        }
      ]
    },
    {
      "cell_type": "code",
      "source": [
        "print ('The shape of X_train is: ' + str(X_train.shape))\n",
        "print ('The shape of y_train is: ' + str(y_train.shape))\n",
        "print ('We have m = %d training examples' % (len(y_train)))"
      ],
      "metadata": {
        "colab": {
          "base_uri": "https://localhost:8080/"
        },
        "id": "6x-YU8OgTLuR",
        "outputId": "235e4006-71a2-476c-99b3-5574dbb5d9fc"
      },
      "execution_count": 5,
      "outputs": [
        {
          "output_type": "stream",
          "name": "stdout",
          "text": [
            "The shape of X_train is: (118, 2)\n",
            "The shape of y_train is: (118,)\n",
            "We have m = 118 training examples\n"
          ]
        }
      ]
    },
    {
      "cell_type": "code",
      "source": [
        "# Separate accepted and not accepted students\n",
        "accepted = data[y_train == 1]\n",
        "rejected = data[y_train == 0]\n",
        "\n",
        "# Plot the data\n",
        "plt.figure(figsize=(8, 6))\n",
        "plt.scatter(accepted[:, 0], accepted[:, 1], marker='+', color='black', label=\"Accepted\")\n",
        "plt.scatter(rejected[:, 0], rejected[:, 1], marker='o', color='#C9CC3F', label=\"Rejected\")\n",
        "\n",
        "# Labels and legend\n",
        "plt.xlabel(\"Microchip Test 1\")\n",
        "plt.ylabel(\"Microchip Test 2\")\n",
        "plt.legend()\n",
        "plt.show()"
      ],
      "metadata": {
        "colab": {
          "base_uri": "https://localhost:8080/",
          "height": 542
        },
        "id": "Mg5_4jslTQ4Z",
        "outputId": "96018505-2952-4a67-868b-9b3f3ecd36c1"
      },
      "execution_count": 6,
      "outputs": [
        {
          "output_type": "display_data",
          "data": {
            "text/plain": [
              "<Figure size 800x600 with 1 Axes>"
            ],
            "image/png": "[encoded data removed]"
          },
          "metadata": {}
        }
      ]
    },
    {
      "cell_type": "markdown",
      "source": [
        "*   The dataset cannot be separated into positive and negative examples by a straight-line through the plot.\n",
        "\n",
        "*   Therefore, a straight forward application of logistic regression will not perform well on this dataset since logistic regression will only be able to find a linear decision boundary.\n",
        "\n"
      ],
      "metadata": {
        "id": "7JX1P0nfUk2h"
      }
    },
    {
      "cell_type": "markdown",
      "source": [
        "###Feature mapping\n",
        "\n",
        "One way to fit the data better is to create more features from each data point. In the provided function `map_feature`, we will map the features into all polynomial terms of $x_1$ and $x_2$ up to the sixth power.\n",
        "\n",
        "$$\\mathrm{map\\_feature}(x) =\n",
        "\\left[\\begin{array}{c}\n",
        "x_1\\\\\n",
        "x_2\\\\\n",
        "x_1^2\\\\\n",
        "x_1 x_2\\\\\n",
        "x_2^2\\\\\n",
        "x_1^3\\\\\n",
        "\\vdots\\\\\n",
        "x_1 x_2^5\\\\\n",
        "x_2^6\\end{array}\\right]$$"
      ],
      "metadata": {
        "id": "OAGdJT5iVcSx"
      }
    },
    {
      "cell_type": "code",
      "source": [
        "def map_feature(X1, X2):\n",
        "    \"\"\"\n",
        "    Feature mapping function to polynomial features\n",
        "    \"\"\"\n",
        "    X1 = np.atleast_1d(X1)\n",
        "    X2 = np.atleast_1d(X2)\n",
        "    degree = 6\n",
        "    out = []\n",
        "    for i in range(1, degree+1):\n",
        "        for j in range(i + 1):\n",
        "            out.append((X1**(i-j) * (X2**j)))\n",
        "    return np.stack(out, axis=1)"
      ],
      "metadata": {
        "id": "c3R_0BA7UQQ8"
      },
      "execution_count": 7,
      "outputs": []
    },
    {
      "cell_type": "code",
      "source": [
        "print(\"Original shape of data:\", X_train.shape)\n",
        "\n",
        "mapped_X =  map_feature(X_train[:, 0], X_train[:, 1])\n",
        "print(\"Shape after feature mapping:\", mapped_X.shape)"
      ],
      "metadata": {
        "colab": {
          "base_uri": "https://localhost:8080/"
        },
        "id": "7dXEOqmvVxWz",
        "outputId": "705dfeee-9efe-4aaa-ac3a-881712aa81e3"
      },
      "execution_count": 8,
      "outputs": [
        {
          "output_type": "stream",
          "name": "stdout",
          "text": [
            "Original shape of data: (118, 2)\n",
            "Shape after feature mapping: (118, 27)\n"
          ]
        }
      ]
    },
    {
      "cell_type": "code",
      "source": [
        "print(\"X_train[0]:\", X_train[0])\n",
        "print(\"mapped X_train[0]:\", mapped_X[0])"
      ],
      "metadata": {
        "colab": {
          "base_uri": "https://localhost:8080/"
        },
        "id": "3Cwx26iDV07U",
        "outputId": "2244f5dc-c23d-4862-8bbd-78cd4811a156"
      },
      "execution_count": 9,
      "outputs": [
        {
          "output_type": "stream",
          "name": "stdout",
          "text": [
            "X_train[0]: [0.051267 0.69956 ]\n",
            "mapped X_train[0]: [5.12670000e-02 6.99560000e-01 2.62830529e-03 3.58643425e-02\n",
            " 4.89384194e-01 1.34745327e-04 1.83865725e-03 2.50892595e-02\n",
            " 3.42353606e-01 6.90798869e-06 9.42624411e-05 1.28625106e-03\n",
            " 1.75514423e-02 2.39496889e-01 3.54151856e-07 4.83255257e-06\n",
            " 6.59422333e-05 8.99809795e-04 1.22782870e-02 1.67542444e-01\n",
            " 1.81563032e-08 2.47750473e-07 3.38066048e-06 4.61305487e-05\n",
            " 6.29470940e-04 8.58939846e-03 1.17205992e-01]\n"
          ]
        }
      ]
    },
    {
      "cell_type": "markdown",
      "source": [
        "\n",
        "\n",
        "*   While the feature mapping allows us to build a more expressive classifier, it is also more susceptible to overfitting.\n",
        "*   Regularized Logistic Regression can help combat the overfitting problem.\n",
        "\n"
      ],
      "metadata": {
        "id": "-f4X5oiTWKss"
      }
    },
    {
      "cell_type": "markdown",
      "source": [
        "The formula for a sigmoid function is as follows -  \n",
        "\n",
        "$g(z) = \\frac{1}{1+e^{-z}}\\tag{1}$"
      ],
      "metadata": {
        "id": "BdC7yoAfd3AM"
      }
    },
    {
      "cell_type": "code",
      "source": [
        "def sigmoid(z):\n",
        "\n",
        "    g = 1 / (1 + np.exp(-z))\n",
        "\n",
        "    return g"
      ],
      "metadata": {
        "id": "IKue2-wGV9Tb"
      },
      "execution_count": 10,
      "outputs": []
    },
    {
      "cell_type": "markdown",
      "source": [
        "###Cost function for regularized logistic regression\n",
        "\n",
        "The Cost Function for  regularized logistic regression is defined as:\n",
        "$$J(\\mathbf{w},b) = \\frac{1}{m}  \\sum_{i=0}^{m-1} \\left[ -y^{(i)} \\log\\left(f_{\\mathbf{w},b}\\left( \\mathbf{x}^{(i)} \\right) \\right) - \\left( 1 - y^{(i)}\\right) \\log \\left( 1 - f_{\\mathbf{w},b}\\left( \\mathbf{x}^{(i)} \\right) \\right) \\right] + \\frac{\\lambda}{2m}  \\sum_{j=0}^{n-1} w_j^2  \\tag{2}$$\n",
        "\n",
        "The difference is the regularization term, which is $$\\frac{\\lambda}{2m}  \\sum_{j=0}^{n-1} w_j^2$$\n",
        "Note that the $b$ parameter is not regularized."
      ],
      "metadata": {
        "id": "cIzLA9zpeMdk"
      }
    },
    {
      "cell_type": "code",
      "source": [
        "def compute_cost(X, y, w, b, lambda_ = 1):\n",
        "\n",
        "    m, n = X.shape\n",
        "    loss_sum = 0\n",
        "    reg_cost = 0.\n",
        "\n",
        "    for i in range(m):\n",
        "\n",
        "        z_wb = 0\n",
        "        for j in range(n):\n",
        "\n",
        "            z_wb_ij = w[j] * X[i][j]\n",
        "            z_wb += z_wb_ij\n",
        "\n",
        "        z_wb += b\n",
        "        f_wb = sigmoid(z_wb)\n",
        "\n",
        "        loss = (-y[i] * np.log(f_wb)) - (1 - y[i]) * np.log(1 - f_wb)\n",
        "\n",
        "        loss_sum += loss\n",
        "\n",
        "    total_cost = (1 / m) * loss_sum\n",
        "    for j in range(n):\n",
        "\n",
        "        reg_cost_j = w[j] ** 2\n",
        "        reg_cost += reg_cost_j\n",
        "\n",
        "    reg_cost = (lambda_/(2 * m)) * reg_cost\n",
        "\n",
        "    total_cost += reg_cost\n",
        "\n",
        "    return total_cost"
      ],
      "metadata": {
        "id": "SnDOcBkFd8bd"
      },
      "execution_count": 11,
      "outputs": []
    },
    {
      "cell_type": "markdown",
      "source": [
        "The Gradient is defined as:\n",
        "$$\\frac{\\partial J(\\mathbf{w},b)}{\\partial b} = \\frac{1}{m}  \\sum_{i=0}^{m-1} (f_{\\mathbf{w},b}(\\mathbf{x}^{(i)}) - y^{(i)})  \\tag{3}$$\n",
        "\n",
        "$$\\frac{\\partial J(\\mathbf{w},b)}{\\partial w_j} = \\left( \\frac{1}{m}  \\sum_{i=0}^{m-1} (f_{\\mathbf{w},b}(\\mathbf{x}^{(i)}) - y^{(i)}) x_j^{(i)} \\right) + \\frac{\\lambda}{m} w_j  \\quad\\, \\mbox{for $j=0...(n-1)$} \\tag{4}$$"
      ],
      "metadata": {
        "id": "l2ffpF2hauNn"
      }
    },
    {
      "cell_type": "code",
      "source": [
        "def compute_gradient(X, y, w, b, lambda_ = 1):\n",
        "\n",
        "    m, n = X.shape\n",
        "    dj_dw = np.zeros(w.shape)\n",
        "    dj_db = 0.\n",
        "\n",
        "    for i in range(m):\n",
        "        z_wb = 0\n",
        "        for j in range(n):\n",
        "            z_wb_ij = w[j] * X[i][j]\n",
        "            z_wb += z_wb_ij\n",
        "        z_wb += b\n",
        "        f_wb = sigmoid(z_wb)\n",
        "\n",
        "        dj_db_i = f_wb - y[i]\n",
        "        dj_db += dj_db_i\n",
        "\n",
        "        for j in range(n):\n",
        "            dj_dw_ij = (f_wb - y[i]) * X[i][j]\n",
        "            dj_dw[j] += dj_dw_ij\n",
        "\n",
        "    dj_dw = dj_dw / m\n",
        "    dj_db = dj_db / m\n",
        "\n",
        "    for j in range(n):\n",
        "\n",
        "        dj_dw_j_reg = (lambda_ / m) * w[j]\n",
        "\n",
        "        dj_dw[j] = dj_dw[j] + dj_dw_j_reg\n",
        "\n",
        "    return dj_db, dj_dw"
      ],
      "metadata": {
        "id": "q-yjltl5giyF"
      },
      "execution_count": 12,
      "outputs": []
    },
    {
      "cell_type": "markdown",
      "source": [
        "Gradient Descent is defined as:\n",
        "$$\\begin{align*}& \\text{repeat until convergence:} \\; \\lbrace \\newline \\; & b := b -  \\alpha \\frac{\\partial J(\\mathbf{w},b)}{\\partial b} \\newline       \\; & w_j := w_j -  \\alpha \\frac{\\partial J(\\mathbf{w},b)}{\\partial w_j} \\tag{5}  \\; & \\text{for j := 0..n-1}\\newline & \\rbrace\\end{align*}$$"
      ],
      "metadata": {
        "id": "KiYp0kg8cQFY"
      }
    },
    {
      "cell_type": "code",
      "source": [
        "def gradient_descent(X, y, w_in, b_in, cost_function, gradient_function, alpha, num_iters, lambda_):\n",
        "\n",
        "    m = len(X)\n",
        "    J_history = []\n",
        "    w_history = []\n",
        "\n",
        "    for i in range(num_iters):\n",
        "\n",
        "        # Calculate the gradient and update the parameters\n",
        "        dj_db, dj_dw = gradient_function(X, y, w_in, b_in, lambda_)\n",
        "\n",
        "        # Update Parameters using w, b, alpha and gradient\n",
        "        w_in = w_in - alpha * dj_dw\n",
        "        b_in = b_in - alpha * dj_db\n",
        "\n",
        "        # Save cost J at each iteration\n",
        "        if i<100000:      # prevent resource exhaustion\n",
        "            cost =  cost_function(X, y, w_in, b_in, lambda_)\n",
        "            J_history.append(cost)\n",
        "\n",
        "        # Print cost every at intervals 10 times or as many iterations if < 10\n",
        "        if i% math.ceil(num_iters/10) == 0 or i == (num_iters-1):\n",
        "            w_history.append(w_in)\n",
        "            print(f\"Iteration {i:4}: Cost {float(J_history[-1]):8.2f}   \")\n",
        "\n",
        "    return w_in, b_in, J_history, w_history #return w and J,w history for graphing"
      ],
      "metadata": {
        "id": "pXj6OpMobvB9"
      },
      "execution_count": 15,
      "outputs": []
    },
    {
      "cell_type": "code",
      "source": [
        "# Initialize fitting parameters\n",
        "np.random.seed(1)\n",
        "initial_w = np.random.rand(mapped_X.shape[1])-0.5\n",
        "initial_b = 1.\n",
        "\n",
        "# Set regularization parameter lambda_ (you can try varying this)\n",
        "lambda_ = 0.01\n",
        "\n",
        "# Some gradient descent settings\n",
        "iterations = 10000\n",
        "alpha = 0.01\n",
        "\n",
        "w,b, J_history,_ = gradient_descent(mapped_X, y_train, initial_w, initial_b,\n",
        "                                    compute_cost, compute_gradient,\n",
        "                                    alpha, iterations, lambda_)"
      ],
      "metadata": {
        "colab": {
          "base_uri": "https://localhost:8080/"
        },
        "id": "WRKLnUpgcp4d",
        "outputId": "52111226-91b0-46f6-b97a-2b9fd723973d"
      },
      "execution_count": 17,
      "outputs": [
        {
          "output_type": "stream",
          "name": "stdout",
          "text": [
            "Iteration    0: Cost     0.72   \n",
            "Iteration 1000: Cost     0.59   \n",
            "Iteration 2000: Cost     0.56   \n",
            "Iteration 3000: Cost     0.53   \n",
            "Iteration 4000: Cost     0.51   \n",
            "Iteration 5000: Cost     0.50   \n",
            "Iteration 6000: Cost     0.48   \n",
            "Iteration 7000: Cost     0.47   \n",
            "Iteration 8000: Cost     0.46   \n",
            "Iteration 9000: Cost     0.45   \n",
            "Iteration 9999: Cost     0.45   \n"
          ]
        }
      ]
    },
    {
      "cell_type": "code",
      "source": [
        "# Function to plot the decision boundary\n",
        "def plot_decision_boundary(X, y, w, b):\n",
        "    # Create a grid of points over the feature space\n",
        "    x_min, x_max = X[:, 0].min() - 0.1, X[:, 0].max() + 0.1\n",
        "    y_min, y_max = X[:, 1].min() - 0.1, X[:, 1].max() + 0.1\n",
        "    xx, yy = np.meshgrid(np.arange(x_min, x_max, 0.01),\n",
        "                         np.arange(y_min, y_max, 0.01))\n",
        "\n",
        "    # Map the grid points to the feature space\n",
        "    grid_points = np.c_[xx.ravel(), yy.ravel()]\n",
        "    mapped_grid_points = map_feature(grid_points[:, 0], grid_points[:, 1])\n",
        "\n",
        "    # Predict the class for each point in the grid\n",
        "    Z = np.dot(mapped_grid_points, w) + b\n",
        "    Z = sigmoid(Z)\n",
        "    Z = Z.reshape(xx.shape)\n",
        "\n",
        "    # Plot the decision boundary\n",
        "    plt.contour(xx, yy, Z, levels=[0.5], colors='green', linewidths=2)\n",
        "\n",
        "    # Plot the data points\n",
        "    accepted = X[y == 1]\n",
        "    rejected = X[y == 0]\n",
        "    plt.scatter(accepted[:, 0], accepted[:, 1], marker='+', color='black', label=\"Accepted (y=1)\")\n",
        "    plt.scatter(rejected[:, 0], rejected[:, 1], marker='o', color='#C9CC3F', label=\"Rejected (y=0)\")\n",
        "\n",
        "    # Labels and legend\n",
        "    plt.xlabel(\"Microchip Test 1\")\n",
        "    plt.ylabel(\"Microchip Test 2\")\n",
        "    plt.title(\"Decision Boundary for Microchip Acceptance\")\n",
        "    plt.legend()\n",
        "    plt.show()\n",
        "\n",
        "# Plot the decision boundary\n",
        "plot_decision_boundary(X_train, y_train, w, b)"
      ],
      "metadata": {
        "colab": {
          "base_uri": "https://localhost:8080/",
          "height": 472
        },
        "id": "hrUldywsctHa",
        "outputId": "d17ac7f7-baa0-43b8-a604-7abe4bc59745"
      },
      "execution_count": 21,
      "outputs": [
        {
          "output_type": "display_data",
          "data": {
            "text/plain": [
              "<Figure size 640x480 with 1 Axes>"
            ],
            "image/png": "[encoded data removed]"
          },
          "metadata": {}
        }
      ]
    },
    {
      "cell_type": "code",
      "source": [
        "def predict(X, w, b):\n",
        "\n",
        "    # number of training examples\n",
        "    m, n = X.shape\n",
        "    p = np.zeros(m)\n",
        "\n",
        "    # Loop over each example\n",
        "    for i in range(m):\n",
        "        z_wb = 0\n",
        "        # Loop over each feature\n",
        "        for j in range(n):\n",
        "            # Add the corresponding term to z_wb\n",
        "            z_wb_ij = w[j] * X[i][j]\n",
        "            z_wb += z_wb_ij\n",
        "\n",
        "        # Add bias term\n",
        "        z_wb += b\n",
        "\n",
        "        # Calculate the prediction for this example\n",
        "        f_wb = sigmoid(z_wb)\n",
        "\n",
        "        # Apply the threshold\n",
        "        p[i] = f_wb >= 0.5\n",
        "\n",
        "    return p"
      ],
      "metadata": {
        "id": "OB1ihkRafZSh"
      },
      "execution_count": 24,
      "outputs": []
    },
    {
      "cell_type": "code",
      "source": [
        "# Test your predict code\n",
        "np.random.seed(1)\n",
        "tmp_w = np.random.randn(2)\n",
        "tmp_b = 0.3\n",
        "\n",
        "tmp_X2 = np.array([\n",
        "    [0.70, -0.85],\n",
        "    [-1.30, 0.00],\n",
        "    [0.25, 0.80],\n",
        "    [-0.60, -1.10],\n",
        "    [1.20, 1.00],\n",
        "    [-0.50, 1.30],\n",
        "    [0.90, -0.50],\n",
        "    [-1.00, -0.80]\n",
        "])\n",
        "\n",
        "tmp_p = predict(tmp_X2, tmp_w, tmp_b)\n",
        "print(f'Output of predict: shape {tmp_p.shape}, value {tmp_p}')"
      ],
      "metadata": {
        "colab": {
          "base_uri": "https://localhost:8080/"
        },
        "id": "rhZgseZUgGGo",
        "outputId": "16c0d3d7-b2c8-4fe4-a0ff-0231f1a15f6b"
      },
      "execution_count": 25,
      "outputs": [
        {
          "output_type": "stream",
          "name": "stdout",
          "text": [
            "Output of predict: shape (8,), value [1. 0. 1. 0. 1. 0. 1. 0.]\n"
          ]
        }
      ]
    },
    {
      "cell_type": "code",
      "source": [
        "#Compute accuracy on the training set\n",
        "p = predict(mapped_X, w, b)\n",
        "\n",
        "print('Train Accuracy: %f'%(np.mean(p == y_train) * 100))"
      ],
      "metadata": {
        "colab": {
          "base_uri": "https://localhost:8080/"
        },
        "id": "VCQLJK5OeEf6",
        "outputId": "7f1b4c0b-0a83-4ce4-c673-9ad9ac390e39"
      },
      "execution_count": 26,
      "outputs": [
        {
          "output_type": "stream",
          "name": "stdout",
          "text": [
            "Train Accuracy: 82.203390\n"
          ]
        }
      ]
    },
    {
      "cell_type": "code",
      "source": [],
      "metadata": {
        "id": "s4QAC0d-fLIr"
      },
      "execution_count": null,
      "outputs": []
    }
  ]
}