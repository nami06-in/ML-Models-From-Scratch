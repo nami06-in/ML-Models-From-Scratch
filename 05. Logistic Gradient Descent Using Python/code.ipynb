{
  "cells": [
    {
      "cell_type": "code",
      "execution_count": 33,
      "metadata": {
        "id": "xxv2GwhH-xkD"
      },
      "outputs": [],
      "source": [
        "import copy, math\n",
        "import numpy as np\n",
        "import matplotlib.pyplot as plt"
      ],
      "id": "xxv2GwhH-xkD"
    },
    {
      "cell_type": "code",
      "execution_count": 34,
      "metadata": {
        "id": "kTjP1xWs-xkF"
      },
      "outputs": [],
      "source": [
        "X_train = np.array([[0.5, 1.5], [1,1], [1.5, 0.5], [3, 0.5], [2, 2], [1, 2.5]])\n",
        "y_train = np.array([0, 0, 0, 1, 1, 1])"
      ],
      "id": "kTjP1xWs-xkF"
    },
    {
      "cell_type": "code",
      "source": [
        "# Separate points based on class labels\n",
        "pos = y_train == 1\n",
        "neg = y_train == 0\n",
        "\n",
        "# Plotting\n",
        "plt.figure(figsize=(6,6))\n",
        "plt.scatter(X_train[neg, 0], X_train[neg, 1], marker='o', edgecolors='b', facecolors='none', s=150, label=\"y=0\", linewidths=2.5)\n",
        "plt.scatter(X_train[pos, 0], X_train[pos, 1], marker='x', color='r', s=150, label=\"y=1\", linewidths=2.5)\n",
        "\n",
        "# Labels and legend\n",
        "plt.xlabel(\"$X_0$\")\n",
        "plt.ylabel(\"$X_1$\")\n",
        "plt.legend()\n",
        "plt.xlim(0, 4)\n",
        "plt.ylim(0, 3.5)\n",
        "plt.grid(False)\n",
        "\n",
        "# Show plot\n",
        "plt.show()"
      ],
      "metadata": {
        "colab": {
          "base_uri": "https://localhost:8080/",
          "height": 550
        },
        "id": "tJdtnf65Oui4",
        "outputId": "7054b362-5ccd-43e9-8eb1-153f591f7abb"
      },
      "id": "tJdtnf65Oui4",
      "execution_count": 35,
      "outputs": [
        {
          "output_type": "display_data",
          "data": {
            "text/plain": [
              "<Figure size 600x600 with 1 Axes>"
            ],
            "image/png": "[encoded data removed]"
          },
          "metadata": {}
        }
      ]
    },
    {
      "cell_type": "markdown",
      "source": [
        "## Formula for Sigmoid function\n",
        "The formula for a sigmoid function is as follows -  \n",
        "\n",
        "$g(z) = \\frac{1}{1+e^{-z}}\\tag{1}$"
      ],
      "metadata": {
        "id": "bDclBJL3UDtM"
      },
      "id": "bDclBJL3UDtM"
    },
    {
      "cell_type": "code",
      "source": [
        "def sigmoid(z):\n",
        "\n",
        "    g = 1/(1+np.exp(-z))\n",
        "\n",
        "    return g"
      ],
      "metadata": {
        "id": "5fV-YU8PUFSh"
      },
      "id": "5fV-YU8PUFSh",
      "execution_count": 36,
      "outputs": []
    },
    {
      "cell_type": "markdown",
      "source": [
        "## Cost function\n",
        "\n",
        "The cost function is defined as:\n",
        "$$ J(\\mathbf{w},b) = \\frac{1}{m} \\sum_{i=0}^{m-1} \\left[ loss(f_{\\mathbf{w},b}(\\mathbf{x}^{(i)}), y^{(i)}) \\right] \\tag{2}$$\n",
        "\n",
        "where\n",
        "* $loss(f_{\\mathbf{w},b}(\\mathbf{x}^{(i)}), y^{(i)})$ is the cost for a single data point, which is:\n",
        "\n",
        "    $$loss(f_{\\mathbf{w},b}(\\mathbf{x}^{(i)}), y^{(i)}) = -y^{(i)} \\log\\left(f_{\\mathbf{w},b}\\left( \\mathbf{x}^{(i)} \\right) \\right) - \\left( 1 - y^{(i)}\\right) \\log \\left( 1 - f_{\\mathbf{w},b}\\left( \\mathbf{x}^{(i)} \\right) \\right) \\tag{3}$$\n",
        "    \n",
        "*  where m is the number of training examples in the data set and:\n",
        "$$\n",
        "\\begin{align}\n",
        "  f_{\\mathbf{w},b}(\\mathbf{x^{(i)}}) &= g(z^{(i)})\\tag{4} \\\\\n",
        "  z^{(i)} &= \\mathbf{w} \\cdot \\mathbf{x}^{(i)}+ b\\tag{5} \\\\\n",
        "  g(z^{(i)}) &= \\frac{1}{1+e^{-z^{(i)}}}\\tag{6}\n",
        "\\end{align}\n",
        "$$"
      ],
      "metadata": {
        "id": "HlZ7cc18VREn"
      },
      "id": "HlZ7cc18VREn"
    },
    {
      "cell_type": "code",
      "source": [
        "def compute_cost(X, y, w, b):\n",
        "\n",
        "    m = X.shape[0]\n",
        "    cost = 0.0\n",
        "    for i in range(m):\n",
        "        z_i = np.dot(X[i],w) + b\n",
        "        f_wb_i = sigmoid(z_i)\n",
        "        cost +=  -y[i]*np.log(f_wb_i) - (1-y[i])*np.log(1-f_wb_i)\n",
        "\n",
        "    cost = cost / m\n",
        "\n",
        "    return cost"
      ],
      "metadata": {
        "id": "l0-_OstMU7Ss"
      },
      "id": "l0-_OstMU7Ss",
      "execution_count": 37,
      "outputs": []
    },
    {
      "cell_type": "markdown",
      "source": [
        "The gradient is defined as:\n",
        "$$\\begin{align*}\n",
        "\\frac{\\partial J(\\mathbf{w},b)}{\\partial w_j}  &= \\frac{1}{m} \\sum\\limits_{i = 0}^{m-1} (f_{\\mathbf{w},b}(\\mathbf{x}^{(i)}) - y^{(i)})x_{j}^{(i)} \\tag{7} \\\\\n",
        "\\frac{\\partial J(\\mathbf{w},b)}{\\partial b}  &= \\frac{1}{m} \\sum\\limits_{i = 0}^{m-1} (f_{\\mathbf{w},b}(\\mathbf{x}^{(i)}) - y^{(i)}) \\tag{8}\n",
        "\\end{align*}$$\n",
        "\n",
        "* m is the number of training examples in the data set      \n",
        "* $f_{\\mathbf{w},b}(x^{(i)})$ is the model's prediction, while $y^{(i)}$ is the target\n"
      ],
      "metadata": {
        "id": "3TPvAshtWQNq"
      },
      "id": "3TPvAshtWQNq"
    },
    {
      "cell_type": "code",
      "execution_count": 38,
      "metadata": {
        "id": "R5RmEXlv-xkI"
      },
      "outputs": [],
      "source": [
        "def compute_gradient(X, y, w, b):\n",
        "    m,n = X.shape\n",
        "    dj_dw = np.zeros((n,))                           #(n,)\n",
        "    dj_db = 0.\n",
        "\n",
        "    for i in range(m):\n",
        "        f_wb_i = sigmoid(np.dot(X[i],w) + b)          #(n,)(n,)=scalar\n",
        "        err_i  = f_wb_i  - y[i]                       #scalar\n",
        "        for j in range(n):\n",
        "            dj_dw[j] = dj_dw[j] + err_i * X[i,j]      #scalar\n",
        "        dj_db = dj_db + err_i\n",
        "    dj_dw = dj_dw/m                                   #(n,)\n",
        "    dj_db = dj_db/m                                   #scalar\n",
        "\n",
        "    return dj_db, dj_dw"
      ],
      "id": "R5RmEXlv-xkI"
    },
    {
      "cell_type": "markdown",
      "source": [
        "Gradient Descent is defined as:\n",
        "\n",
        "$$\\begin{align*}\n",
        "&\\text{repeat until convergence:} \\; \\lbrace \\\\\n",
        "&  \\; \\; \\;w_j = w_j -  \\alpha \\frac{\\partial J(\\mathbf{w},b)}{\\partial w_j} \\tag{9}  \\; & \\text{for j := 0..n-1} \\\\\n",
        "&  \\; \\; \\;  \\; \\;b = b -  \\alpha \\frac{\\partial J(\\mathbf{w},b)}{\\partial b} \\\\\n",
        "&\\rbrace\n",
        "\\end{align*}$$"
      ],
      "metadata": {
        "id": "-mvkj_hpXDIO"
      },
      "id": "-mvkj_hpXDIO"
    },
    {
      "cell_type": "code",
      "execution_count": 39,
      "metadata": {
        "id": "n2WqmKNC-xkJ"
      },
      "outputs": [],
      "source": [
        "def gradient_descent(X, y, w_in, b_in, alpha, num_iters):\n",
        "    # An array to store cost J and w's at each iteration primarily for graphing later\n",
        "    J_history = []\n",
        "    w = copy.deepcopy(w_in)  #avoid modifying global w within function\n",
        "    b = b_in\n",
        "\n",
        "    for i in range(num_iters):\n",
        "        # Calculate the gradient and update the parameters\n",
        "        dj_db, dj_dw = compute_gradient(X, y, w, b)\n",
        "\n",
        "        # Update Parameters using w, b, alpha and gradient\n",
        "        w = w - alpha * dj_dw\n",
        "        b = b - alpha * dj_db\n",
        "\n",
        "        # Save cost J at each iteration\n",
        "        if i<100000:      # prevent resource exhaustion\n",
        "            J_history.append( compute_cost(X, y, w, b) )\n",
        "\n",
        "        # Print cost every at intervals 10 times or as many iterations if < 10\n",
        "        if i% math.ceil(num_iters / 10) == 0:\n",
        "            print(f\"Iteration {i:4d}: Cost {J_history[-1]}   \")\n",
        "\n",
        "    return w, b, J_history         #return final w,b and J history for graphing\n"
      ],
      "id": "n2WqmKNC-xkJ"
    },
    {
      "cell_type": "code",
      "execution_count": 40,
      "metadata": {
        "colab": {
          "base_uri": "https://localhost:8080/"
        },
        "id": "G1QWAk9M-xkK",
        "outputId": "136dd22b-4451-463f-9fda-14cb9c8d2f21"
      },
      "outputs": [
        {
          "output_type": "stream",
          "name": "stdout",
          "text": [
            "Iteration    0: Cost 0.684610468560574   \n",
            "Iteration 1000: Cost 0.1590977666870457   \n",
            "Iteration 2000: Cost 0.08460064176930078   \n",
            "Iteration 3000: Cost 0.05705327279402531   \n",
            "Iteration 4000: Cost 0.04290759421682   \n",
            "Iteration 5000: Cost 0.03433847729884557   \n",
            "Iteration 6000: Cost 0.02860379802212006   \n",
            "Iteration 7000: Cost 0.02450156960879306   \n",
            "Iteration 8000: Cost 0.02142370332569295   \n",
            "Iteration 9000: Cost 0.019030137124109114   \n",
            "\n",
            "updated parameters: w:[5.28123029 5.07815608], b:-14.222409982019837\n"
          ]
        }
      ],
      "source": [
        "w_tmp  = np.zeros_like(X_train[0])\n",
        "b_tmp  = 0.\n",
        "alph = 0.1\n",
        "iters = 10000\n",
        "\n",
        "w_out, b_out, _ = gradient_descent(X_train, y_train, w_tmp, b_tmp, alph, iters)\n",
        "print(f\"\\nupdated parameters: w:{w_out}, b:{b_out}\")"
      ],
      "id": "G1QWAk9M-xkK"
    },
    {
      "cell_type": "code",
      "source": [
        "# Extract learned parameters\n",
        "w0, w1 = w_out  # Unpacking the weights\n",
        "b = b_out\n",
        "\n",
        "# Generate x values (spanning the dataset range)\n",
        "x0_vals = np.linspace(0, 4, 100)\n",
        "x1_vals = - (w0 * x0_vals + b) / w1  # Compute x1 using decision boundary equation\n",
        "\n",
        "# Plot data points\n",
        "plt.figure(figsize=(6,6))\n",
        "plt.scatter(X_train[y_train == 0, 0], X_train[y_train == 0, 1], marker='o', edgecolors='b', facecolors='none', s=150, label=\"y=0\", linewidths=2.5)\n",
        "plt.scatter(X_train[y_train == 1, 0], X_train[y_train == 1, 1], marker='x', color='r', s=150, label=\"y=1\", linewidths=2.5)\n",
        "\n",
        "# Plot thick blue decision boundary\n",
        "plt.plot(x0_vals, x1_vals, color='blue', linewidth=3, linestyle='-', label=\"Decision Boundary\")\n",
        "\n",
        "# Labels and legend\n",
        "plt.xlabel(\"$X_0$\")\n",
        "plt.ylabel(\"$X_1$\")\n",
        "plt.legend()\n",
        "plt.xlim(0, 4)\n",
        "plt.ylim(0, 3.5)\n",
        "plt.grid(False)\n",
        "plt.show()\n"
      ],
      "metadata": {
        "colab": {
          "base_uri": "https://localhost:8080/",
          "height": 550
        },
        "id": "j9hYD4CtZ-fc",
        "outputId": "f5ef28e3-6061-4556-cd36-0e4c214d44a0"
      },
      "id": "j9hYD4CtZ-fc",
      "execution_count": 41,
      "outputs": [
        {
          "output_type": "display_data",
          "data": {
            "text/plain": [
              "<Figure size 600x600 with 1 Axes>"
            ],
            "image/png": "[encoded data removed]"
          },
          "metadata": {}
        }
      ]
    },
    {
      "cell_type": "code",
      "source": [],
      "metadata": {
        "id": "P42QmJ4IZ_A_"
      },
      "id": "P42QmJ4IZ_A_",
      "execution_count": 41,
      "outputs": []
    }
  ],
  "metadata": {
    "kernelspec": {
      "display_name": "Python 3",
      "language": "python",
      "name": "python3"
    },
    "language_info": {
      "codemirror_mode": {
        "name": "ipython",
        "version": 3
      },
      "file_extension": ".py",
      "mimetype": "text/x-python",
      "name": "python",
      "nbconvert_exporter": "python",
      "pygments_lexer": "ipython3",
      "version": "3.7.6"
    },
    "colab": {
      "provenance": []
    }
  },
  "nbformat": 4,
  "nbformat_minor": 5
}